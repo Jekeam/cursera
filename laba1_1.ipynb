{
 "cells": [
  {
   "cell_type": "code",
   "execution_count": 3,
   "metadata": {},
   "outputs": [
    {
     "name": "stdout",
     "output_type": "stream",
     "text": [
      "Kол-во предложений в тексте:  22\n",
      "Kол-во уникальных слов в тексте:  254\n",
      "[(6, 0.7327387580875756), (4, 0.77708871496985887), (21, 0.82503644694405864), (10, 0.83281653622739416), (12, 0.83964325485254543), (16, 0.84063618542208085), (20, 0.84275727449171223), (2, 0.86447381456421235), (13, 0.87035925528956715), (14, 0.87401184233025764), (11, 0.88047713906656067), (8, 0.88427248752843102), (19, 0.88854435748492944), (3, 0.89517151632780823), (9, 0.90550888174769317), (7, 0.92587506833388988), (5, 0.94023856953328033), (15, 0.94427217874246472), (18, 0.94427217874246472), (1, 0.95275444087384664), (17, 0.95664450152379399)]\n"
     ]
    }
   ],
   "source": [
    "import re\n",
    "import numpy as np\n",
    "import scipy.spatial.distance as distance\n",
    "from operator import itemgetter\n",
    "\n",
    "f = open('sentences.txt').readlines()\n",
    "\n",
    "#Разобьем на предложения\n",
    "dict_stet = {i: f[i].lower() for i in range(0, len(f))}\n",
    "\n",
    "#Разобьем на слова в предложениях\n",
    "words_in_stet = dict()\n",
    "\n",
    "#заполним словарь предложениями и разьбьем на слова\n",
    "for x in range(0, len(dict_stet)):\n",
    "    words = filter(None, re.split('[^a-z]',\"\".join(dict_stet[x]).lower()))\n",
    "    words_in_stet[x] = words\n",
    "\n",
    "i = len(words_in_stet)\n",
    "print 'Kол-во предложений в тексте: ', i\n",
    "\n",
    "#получим словарь слов\n",
    "words_all = dict()\n",
    "n = 0\n",
    "for x in range(0, len(words_in_stet)):\n",
    "    for y in words_in_stet[x]:\n",
    "        if y not in words_all.values():\n",
    "            words_all[n] = y\n",
    "            n += 1\n",
    "            \n",
    "j = len(words_all) \n",
    "print 'Kол-во уникальных слов в тексте: ', j\n",
    "\n",
    "#Создайте матрицу размера n * d, где n — число предложений. \n",
    "#Заполните ее: элемент с индексом (i, j) в этой матрице должен быть равен количеству вхождений j-го слова в i-е предложение.\n",
    "#У вас должна получиться матрица размера 22 * 254.\n",
    "\n",
    "#создаем матрицу\n",
    "mat = np.zeros((i, j))\n",
    "\n",
    "#print words_in_stet\n",
    "#print words_all\n",
    "#заполняем матрицу\n",
    "\n",
    "for i in words_in_stet:\n",
    "    for w in words_in_stet[i]:\n",
    "        for j in words_all:\n",
    "            if words_all[j] == w:\n",
    "                mat[i, j] += 1\n",
    "\n",
    "my_distance = dict()\n",
    "\n",
    "for i in range(1, mat.shape[0]):\n",
    "    my_distance[i] = distance.cosine(mat[0], mat[i])\n",
    "    \n",
    "print sorted(my_distance.items(), key=itemgetter(1))"
   ]
  }
 ],
 "metadata": {
  "kernelspec": {
   "display_name": "Python 2",
   "language": "python",
   "name": "python2"
  },
  "language_info": {
   "codemirror_mode": {
    "name": "ipython",
    "version": 2
   },
   "file_extension": ".py",
   "mimetype": "text/x-python",
   "name": "python",
   "nbconvert_exporter": "python",
   "pygments_lexer": "ipython2",
   "version": "2.7.13"
  }
 },
 "nbformat": 4,
 "nbformat_minor": 2
}
